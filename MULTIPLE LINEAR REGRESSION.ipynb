{
 "cells": [
  {
   "attachments": {},
   "cell_type": "markdown",
   "metadata": {},
   "source": [
    "## multiple-regression-model"
   ]
  },
  {
   "attachments": {},
   "cell_type": "markdown",
   "metadata": {},
   "source": [
    "## BUSINESS PROBLEM"
   ]
  },
  {
   "attachments": {},
   "cell_type": "markdown",
   "metadata": {},
   "source": [
    "Homes universal is a real estate agency that helps buyers get houses and sellers get the right prices for their houses. As a data scientist I have been tasked with coming up withcoming up with insights that will enable the firm come up with the best prices based on different aspects or characteristics of the houses available and at the same time explain to the buyers the reason for the pricing of certain houses.In order to come up with clear insights that will have impact ,I will apply my analysis based on polynomial regression and Multiple regression modeling.I came up with the following questions to help guide me during my analysis.The aim of this project is to develop a multiple regression model than can predict a house's price"
   ]
  },
  {
   "attachments": {},
   "cell_type": "markdown",
   "metadata": {},
   "source": [
    "1. How do various factors such as the nuber of bedrooms, bathrooms, floors, and overall condition of the house impact the prices of the houses?\n",
    "2. Does the square footage (sqft_living) hav a significant impact on the prices of the houses?"
   ]
  },
  {
   "attachments": {},
   "cell_type": "markdown",
   "metadata": {},
   "source": [
    "## DATA UNDERSTANDING"
   ]
  },
  {
   "attachments": {},
   "cell_type": "markdown",
   "metadata": {},
   "source": [
    "# The King County Housing Data Set contains information about the size, location, condition, and other features of houses in King County. A full description of the dataset's columns can be found below."
   ]
  },
  {
   "attachments": {},
   "cell_type": "markdown",
   "metadata": {},
   "source": [
    "1.Column Names and descriptions for King County Data Set\n",
    "\n",
    "2.id - unique identified for a house\n",
    "\n",
    "3.dateDate - house was sold\n",
    "\n",
    "4.pricePrice - is prediction target\n",
    "\n",
    "5.bedroomsNumber - of Bedrooms/House\n",
    "\n",
    "6.bathroomsNumber - of bathrooms/bedrooms\n",
    "\n",
    "7.sqft_livingsquare - footage of the home\n",
    "\n",
    "8.sqft_lotsquare - footage of the lot\n",
    "\n",
    "9.floorsTotal - floors (levels) in house\n",
    "\n",
    "10.waterfront - House which has a view to a waterfront\n",
    "\n",
    "11.view - Has been viewed\n",
    "\n",
    "12.condition - How good the condition is ( Overall )\n",
    "\n",
    "13.grade - overall grade given to the housing unit, based on King County grading system\n",
    "\n",
    "14.sqft_above - square footage of house apart from basement\n",
    "\n",
    "15.sqft_basement - square footage of the basement\n",
    "\n",
    "16.yr_built - Built Year\n",
    "\n",
    "17.yr_renovated - Year when house was renovated\n",
    "\n",
    "18.zipcode - zip\n",
    "\n",
    "19.lat - Latitude coordinate\n",
    "\n",
    "20.long - Longitude coordinate\n",
    "\n",
    "21.sqft_living15 - The square footage of interior housing living space for the nearest 15 neighbors\n",
    "\n",
    "22.sqft_lot15 - The square footage of the land lots of the nearest 15 neighbors"
   ]
  },
  {
   "attachments": {},
   "cell_type": "markdown",
   "metadata": {},
   "source": [
    "# Interpretation of The Model"
   ]
  },
  {
   "attachments": {},
   "cell_type": "markdown",
   "metadata": {},
   "source": [
    "1.How do various factors such as the nuber of bedrooms, bathrooms, floors, and overall condition of the house impact the prices of the houses?\n",
    "\n",
    "From our multiple linar rgression model, the coefficient estimates provides insights into the relationship between the independent variable and the target variable. So a positive coefficient for th factors above reflects on the prices in that it is higher for houses with higher positive coefficients in these factors from the model."
   ]
  },
  {
   "attachments": {},
   "cell_type": "markdown",
   "metadata": {},
   "source": [
    "2.Does the square footage (sqft_living) hav a significant impact on the prices of the houses?\n",
    "\n",
    "Th coefficient estimate for the 'sqft_living' variable in the multiple linear regression model indicates the change in the price associated with a one unit incease in square footage,assuming all other variables remain constant. A positive coefficient suggests that an increase in square footage is associatd with higherhouse prices, while a negative coefficient would idicate the opposite. "
   ]
  },
  {
   "attachments": {},
   "cell_type": "markdown",
   "metadata": {},
   "source": [
    "# Conclusion"
   ]
  },
  {
   "attachments": {},
   "cell_type": "markdown",
   "metadata": {},
   "source": [
    "We can therefore see that there arecertain features and factor that influence the price of particular houses such as the overall condition of the house and the the number of rooms(bedrooms, bathrooms, living areas etc) and the sqft_living spaces. Houses that are in good condition overally, and have a lot of rooms utimately go for higher prices and the opposite is also true. Houses that have a large sqft_living also go for higher prics as most people tend to appreciate the size and space tht these houses contain."
   ]
  },
  {
   "attachments": {},
   "cell_type": "markdown",
   "metadata": {},
   "source": [
    "# Recommendations"
   ]
  },
  {
   "attachments": {},
   "cell_type": "markdown",
   "metadata": {},
   "source": [
    "1. Home Universal should invest in maintaing the overall conditions of the houses they are trying to sell\n",
    "\n",
    "2. The sellers should invest in particularly advrtising houses that contain mor rooms as those go for higher prices.\n",
    "\n",
    "3. The sellers should also focus on houses with a particularly larg living spac as those also go for higher prices."
   ]
  },
  {
   "cell_type": "code",
   "execution_count": 1,
   "metadata": {},
   "outputs": [
    {
     "ename": "ModuleNotFoundError",
     "evalue": "No module named 'pandas'",
     "output_type": "error",
     "traceback": [
      "\u001b[1;31m---------------------------------------------------------------------------\u001b[0m",
      "\u001b[1;31mModuleNotFoundError\u001b[0m                       Traceback (most recent call last)",
      "Cell \u001b[1;32mIn[1], line 1\u001b[0m\n\u001b[1;32m----> 1\u001b[0m \u001b[39mimport\u001b[39;00m \u001b[39mpandas\u001b[39;00m \u001b[39mas\u001b[39;00m \u001b[39mpd\u001b[39;00m\n\u001b[0;32m      2\u001b[0m \u001b[39mimport\u001b[39;00m \u001b[39mnumpy\u001b[39;00m \u001b[39mas\u001b[39;00m \u001b[39mnp\u001b[39;00m\n\u001b[0;32m      3\u001b[0m \u001b[39mimport\u001b[39;00m \u001b[39mstatsmodels\u001b[39;00m\u001b[39m.\u001b[39;00m\u001b[39mapi\u001b[39;00m \u001b[39mas\u001b[39;00m \u001b[39msm\u001b[39;00m\n",
      "\u001b[1;31mModuleNotFoundError\u001b[0m: No module named 'pandas'"
     ]
    }
   ],
   "source": [
    "import pandas as pd\n",
    "import numpy as np\n",
    "import statsmodels.api as sm\n",
    "import matplotlib.pyplot as plt\n",
    "import seaborn as sns\n",
    "from sklearn.metrics import mean_squared_error, r2_score\n",
    "from sklearn.preprocessing import PolynomialFeatures"
   ]
  },
  {
   "cell_type": "code",
   "execution_count": null,
   "metadata": {},
   "outputs": [],
   "source": []
  }
 ],
 "metadata": {
  "kernelspec": {
   "display_name": "learn-env",
   "language": "python",
   "name": "python3"
  },
  "language_info": {
   "codemirror_mode": {
    "name": "ipython",
    "version": 3
   },
   "file_extension": ".py",
   "mimetype": "text/x-python",
   "name": "python",
   "nbconvert_exporter": "python",
   "pygments_lexer": "ipython3",
   "version": "3.10.11"
  },
  "orig_nbformat": 4
 },
 "nbformat": 4,
 "nbformat_minor": 2
}
